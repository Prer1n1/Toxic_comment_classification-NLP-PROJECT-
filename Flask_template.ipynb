{
  "cells": [
    {
      "cell_type": "code",
      "execution_count": null,
      "metadata": {
        "colab": {
          "base_uri": "https://localhost:8080/"
        },
        "id": "geJTu4p-7tM1",
        "outputId": "ead42c2d-f8bf-4dd2-a76c-6a6d9762c13d"
      },
      "outputs": [
        {
          "name": "stdout",
          "output_type": "stream",
          "text": [
            "Looking in indexes: https://pypi.org/simple, https://us-python.pkg.dev/colab-wheels/public/simple/\n",
            "Collecting flask-ngrok\n",
            "  Downloading flask_ngrok-0.0.25-py3-none-any.whl (3.1 kB)\n",
            "Requirement already satisfied: Flask>=0.8 in /usr/local/lib/python3.10/dist-packages (from flask-ngrok) (2.2.4)\n",
            "Requirement already satisfied: requests in /usr/local/lib/python3.10/dist-packages (from flask-ngrok) (2.27.1)\n",
            "Requirement already satisfied: Werkzeug>=2.2.2 in /usr/local/lib/python3.10/dist-packages (from Flask>=0.8->flask-ngrok) (2.3.0)\n",
            "Requirement already satisfied: Jinja2>=3.0 in /usr/local/lib/python3.10/dist-packages (from Flask>=0.8->flask-ngrok) (3.1.2)\n",
            "Requirement already satisfied: itsdangerous>=2.0 in /usr/local/lib/python3.10/dist-packages (from Flask>=0.8->flask-ngrok) (2.1.2)\n",
            "Requirement already satisfied: click>=8.0 in /usr/local/lib/python3.10/dist-packages (from Flask>=0.8->flask-ngrok) (8.1.3)\n",
            "Requirement already satisfied: urllib3<1.27,>=1.21.1 in /usr/local/lib/python3.10/dist-packages (from requests->flask-ngrok) (1.26.15)\n",
            "Requirement already satisfied: certifi>=2017.4.17 in /usr/local/lib/python3.10/dist-packages (from requests->flask-ngrok) (2022.12.7)\n",
            "Requirement already satisfied: charset-normalizer~=2.0.0 in /usr/local/lib/python3.10/dist-packages (from requests->flask-ngrok) (2.0.12)\n",
            "Requirement already satisfied: idna<4,>=2.5 in /usr/local/lib/python3.10/dist-packages (from requests->flask-ngrok) (3.4)\n",
            "Requirement already satisfied: MarkupSafe>=2.0 in /usr/local/lib/python3.10/dist-packages (from Jinja2>=3.0->Flask>=0.8->flask-ngrok) (2.1.2)\n",
            "Installing collected packages: flask-ngrok\n",
            "Successfully installed flask-ngrok-0.0.25\n",
            "Looking in indexes: https://pypi.org/simple, https://us-python.pkg.dev/colab-wheels/public/simple/\n",
            "Collecting pyngrok==4.1.1\n",
            "  Downloading pyngrok-4.1.1.tar.gz (18 kB)\n",
            "  Preparing metadata (setup.py) ... \u001b[?25l\u001b[?25hdone\n",
            "Requirement already satisfied: future in /usr/local/lib/python3.10/dist-packages (from pyngrok==4.1.1) (0.18.3)\n",
            "Requirement already satisfied: PyYAML in /usr/local/lib/python3.10/dist-packages (from pyngrok==4.1.1) (6.0)\n",
            "Building wheels for collected packages: pyngrok\n",
            "  Building wheel for pyngrok (setup.py) ... \u001b[?25l\u001b[?25hdone\n",
            "  Created wheel for pyngrok: filename=pyngrok-4.1.1-py3-none-any.whl size=15963 sha256=11b4d6e4524e89945a606c71b7bdc3eb81502c743165273097936c99b5f76626\n",
            "  Stored in directory: /root/.cache/pip/wheels/4c/7c/4c/632fba2ea8e88d8890102eb07bc922e1ca8fa14db5902c91a8\n",
            "Successfully built pyngrok\n",
            "Installing collected packages: pyngrok\n",
            "Successfully installed pyngrok-4.1.1\n",
            "Authtoken saved to configuration file: /root/.ngrok2/ngrok.yml\n",
            "Looking in indexes: https://pypi.org/simple, https://us-python.pkg.dev/colab-wheels/public/simple/\n",
            "Requirement already satisfied: scikit-learn in /usr/local/lib/python3.10/dist-packages (1.2.2)\n",
            "Requirement already satisfied: numpy>=1.17.3 in /usr/local/lib/python3.10/dist-packages (from scikit-learn) (1.22.4)\n",
            "Requirement already satisfied: scipy>=1.3.2 in /usr/local/lib/python3.10/dist-packages (from scikit-learn) (1.10.1)\n",
            "Requirement already satisfied: joblib>=1.1.1 in /usr/local/lib/python3.10/dist-packages (from scikit-learn) (1.2.0)\n",
            "Requirement already satisfied: threadpoolctl>=2.0.0 in /usr/local/lib/python3.10/dist-packages (from scikit-learn) (3.1.0)\n"
          ]
        }
      ],
      "source": [
        "!pip install flask-ngrok\n",
        "!pip install pyngrok==4.1.1\n",
        "!ngrok authtoken 2OrcS4OPRNCBbJfY1reGV9KyTgb_6ZUpYoZCvKZRBE5LHScCJ\n",
        "!pip install -U scikit-learn"
      ]
    },
    {
      "cell_type": "code",
      "execution_count": null,
      "metadata": {
        "id": "dr4JOVXqm6PB"
      },
      "outputs": [],
      "source": [
        "\n"
      ]
    },
    {
      "cell_type": "code",
      "execution_count": null,
      "metadata": {
        "colab": {
          "base_uri": "https://localhost:8080/"
        },
        "id": "BfMIY9Oj70Ue",
        "outputId": "3ef11272-2856-442f-b7b6-86fe966c3796"
      },
      "outputs": [
        {
          "name": "stdout",
          "output_type": "stream",
          "text": [
            "Mounted at /drive\n"
          ]
        }
      ],
      "source": [
        "from google.colab import *\n",
        "drive.mount(\"/drive\")"
      ]
    },
    {
      "cell_type": "code",
      "execution_count": null,
      "metadata": {
        "colab": {
          "base_uri": "https://localhost:8080/"
        },
        "id": "D1EqW08F73RY",
        "outputId": "f2b8d05d-beb5-4a91-fb6c-bc4aabffd30c"
      },
      "outputs": [
        {
          "name": "stdout",
          "output_type": "stream",
          "text": [
            "/drive/.shortcut-targets-by-id/1oUdgl3hGNC_bMgItloNa8R7KsfZMMpGT/toxicity_predictor\n"
          ]
        }
      ],
      "source": [
        "cd /drive/MyDrive/Colab Notebooks/toxicity_predictor"
      ]
    },
    {
      "cell_type": "code",
      "execution_count": null,
      "metadata": {
        "id": "Or_m_mwGZcdK"
      },
      "outputs": [],
      "source": [
        "from flask_ngrok import run_with_ngrok\n",
        "from flask import Flask,request,render_template\n",
        "import pickle\n",
        "import numpy as np\n",
        "from PIL import Image"
      ]
    },
    {
      "cell_type": "code",
      "execution_count": null,
      "metadata": {
        "colab": {
          "background_save": true,
          "base_uri": "https://localhost:8080/"
        },
        "id": "wS-fPcTmhjCe",
        "outputId": "5720566e-5ba6-43eb-c482-64e33ce3412c"
      },
      "outputs": [
        {
          "name": "stdout",
          "output_type": "stream",
          "text": [
            " * Serving Flask app '__main__'\n",
            " * Debug mode: off\n"
          ]
        },
        {
          "name": "stderr",
          "output_type": "stream",
          "text": [
            "INFO:werkzeug:\u001b[31m\u001b[1mWARNING: This is a development server. Do not use it in a production deployment. Use a production WSGI server instead.\u001b[0m\n",
            " * Running on http://127.0.0.1:5000\n",
            "INFO:werkzeug:\u001b[33mPress CTRL+C to quit\u001b[0m\n"
          ]
        },
        {
          "name": "stdout",
          "output_type": "stream",
          "text": [
            " * Running on http://42f5-35-237-170-89.ngrok-free.app\n",
            " * Traffic stats available on http://127.0.0.1:4040\n"
          ]
        }
      ],
      "source": [
        "app = Flask(__name__)\n",
        "run_with_ngrok(app)\n",
        "with open(r\"toxic_vect.pkl\",'rb') as f:\n",
        "  tox = pickle.load(f)\n",
        "\n",
        "with open(r\"severe_toxic_vect.pkl\",'rb') as f:\n",
        "  sev = pickle.load(f)\n",
        "\n",
        "with open(r\"obscene_vect.pkl\",'rb') as f:\n",
        "  obs  = pickle.load(f)\n",
        "\n",
        "with open(r\"insult_vect.pkl\",'rb') as f:\n",
        "  ins  = pickle.load(f)\n",
        "\n",
        "with open(r\"threat_vect.pkl\",'rb') as f:\n",
        "  thr = pickle.load(f)\n",
        "\n",
        "with open(r\"identity_hate_vect.pkl\",'rb') as f:\n",
        "  ide  = pickle.load(f)\n",
        "with open(r\"toxic_model.pkl\", \"rb\") as f:\n",
        "    tox_model = pickle.load(f)\n",
        "\n",
        "with open(r\"severe_toxic_model.pkl\", \"rb\") as f:\n",
        "    sev_model = pickle.load(f)\n",
        "\n",
        "with open(r\"obscene_model.pkl\", \"rb\") as f:\n",
        "    obs_model  = pickle.load(f)\n",
        "\n",
        "with open(r\"insult_model.pkl\", \"rb\") as f:\n",
        "    ins_model  = pickle.load(f)\n",
        "\n",
        "with open(r\"threat_model.pkl\", \"rb\") as f:\n",
        "    thr_model  = pickle.load(f)\n",
        "\n",
        "with open(r\"identity_hate_model.pkl\", \"rb\") as f:\n",
        "    ide_model  = pickle.load(f)\n",
        "@app.route('/')\n",
        "def home():\n",
        "  return render_template('toxicity_predictor.html')\n",
        "\n",
        "@app.route(\"/predict\",methods=['POST'])\n",
        "def predict():\n",
        "  user_input = request.form['text']\n",
        "  data = [user_input]\n",
        "\n",
        "  vect = tox.transform(data)\n",
        "  pred_tox = tox_model.predict_proba(vect)[:,1]\n",
        "\n",
        "  vect = sev.transform(data)\n",
        "  pred_sev = sev_model.predict_proba(vect)[:,1]\n",
        "\n",
        "  vect = obs.transform(data)\n",
        "  pred_obs = obs_model.predict_proba(vect)[:,1]\n",
        "\n",
        "  vect = thr.transform(data)\n",
        "  pred_thr = thr_model.predict_proba(vect)[:,1]\n",
        "\n",
        "  vect = ins.transform(data)\n",
        "  pred_ins = ins_model.predict_proba(vect)[:,1]\n",
        "\n",
        "  vect = ide.transform(data)\n",
        "  pred_ide = ide_model.predict_proba(vect)[:,1]\n",
        "\n",
        "  out_tox = round(pred_tox[0],2)\n",
        "  out_sev = round(pred_sev[0],2)\n",
        "  out_obs = round(pred_obs[0],2)\n",
        "  out_ins = round(pred_ins[0],2)\n",
        "  out_thr = round(pred_thr[0],2)\n",
        "  out_ide = round(pred_ide[0],2)\n",
        "\n",
        "  print(out_tox)\n",
        "\n",
        "  return render_template('toxicity_predictor_2.html',\n",
        "                         # img_data = encoded_img_data.decode('utf-8'),\n",
        "                          pred_tox = 'Prob (Toxic): {}'.format(out_tox),\n",
        "                          pred_sev = 'Prob (Severe Toxic): {}'.format(out_sev),\n",
        "                          pred_obs = 'Prob (Obscene): {}'.format(out_obs),\n",
        "                          pred_ins = 'Prob (Insult): {}'.format(out_ins),\n",
        "                          pred_thr = 'Prob (Threat): {}'.format(out_thr),\n",
        "                          pred_ide = 'Prob (Identity_hate): {}'.format(out_ide)\n",
        "                        )\n",
        "\n",
        "app.run()"
      ]
    }
  ],
  "metadata": {
    "colab": {
      "provenance": []
    },
    "kernelspec": {
      "display_name": "Python 3",
      "name": "python3"
    },
    "language_info": {
      "name": "python"
    }
  },
  "nbformat": 4,
  "nbformat_minor": 0
}